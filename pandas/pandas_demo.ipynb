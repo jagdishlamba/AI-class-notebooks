{
 "cells": [
  {
   "cell_type": "markdown",
   "id": "962bda20",
   "metadata": {},
   "source": [
    "# **Pandas Tutorial**\n",
    "\n",
    "This notebook will guide you through basic to advanced functionalities of **pandas**, one of the most popular data analysis libraries in Python.\n",
    "\n",
    "---"
   ]
  },
  {
   "cell_type": "markdown",
   "id": "c2662047",
   "metadata": {},
   "source": [
    "## **1. Installation and Import**\n",
    "\n",
    "> If you haven’t installed `pandas` yet, uncomment the cell below and run it."
   ]
  },
  {
   "cell_type": "code",
   "execution_count": 1,
   "id": "cb57678f",
   "metadata": {},
   "outputs": [],
   "source": [
    "# !pip install pandas\n",
    "# !pip install numpy  # Numpy is also typically used alongside pandas"
   ]
  },
  {
   "cell_type": "markdown",
   "id": "355996d5",
   "metadata": {},
   "source": [
    "Now, import the necessary libraries:"
   ]
  },
  {
   "cell_type": "code",
   "execution_count": 2,
   "id": "ee325f11",
   "metadata": {
    "jupyter": {
     "outputs_hidden": false
    }
   },
   "outputs": [],
   "source": [
    "import pandas as pd\n",
    "import numpy as np\n",
    "\n",
    "# Setting some display options (optional but can be helpful)\n",
    "pd.set_option('display.max_rows', 10)\n",
    "pd.set_option('display.max_columns', 10)"
   ]
  },
  {
   "cell_type": "markdown",
   "id": "b80abce5",
   "metadata": {},
   "source": [
    "---\n",
    "## **2. Data Structures in Pandas**\n",
    "\n",
    "Pandas offers two key data structures:\n",
    "1. **Series**: A one-dimensional labeled array\n",
    "2. **DataFrame**: A two-dimensional labeled data structure\n",
    "\n",
    "### 2.1 Series"
   ]
  },
  {
   "cell_type": "code",
   "execution_count": 3,
   "id": "0c868d78",
   "metadata": {},
   "outputs": [
    {
     "name": "stdout",
     "output_type": "stream",
     "text": [
      "Series from a list:\n",
      " 0    10\n",
      "1    20\n",
      "2    30\n",
      "3    40\n",
      "dtype: int64\n",
      "\n",
      "Series from a NumPy array:\n",
      " 0    1\n",
      "1    2\n",
      "2    3\n",
      "3    4\n",
      "4    5\n",
      "dtype: int32\n",
      "\n",
      "Series with custom index:\n",
      " a    100\n",
      "b    200\n",
      "c    300\n",
      "dtype: int64\n"
     ]
    }
   ],
   "source": [
    "# Creating a Series from a Python list\n",
    "my_list = [10, 20, 30, 40]\n",
    "my_series = pd.Series(my_list)\n",
    "print(\"Series from a list:\\n\", my_series)\n",
    "\n",
    "# Creating a Series from a NumPy array\n",
    "my_array = np.array([1, 2, 3, 4, 5])\n",
    "my_series_2 = pd.Series(my_array)\n",
    "print(\"\\nSeries from a NumPy array:\\n\", my_series_2)\n",
    "\n",
    "# Creating a Series with custom indices\n",
    "my_series_custom = pd.Series([100, 200, 300], index=['a', 'b', 'c'])\n",
    "print(\"\\nSeries with custom index:\\n\", my_series_custom)"
   ]
  },
  {
   "cell_type": "markdown",
   "id": "cdc1f460",
   "metadata": {},
   "source": [
    "### 2.2 DataFrame"
   ]
  },
  {
   "cell_type": "code",
   "execution_count": 4,
   "id": "849862c6",
   "metadata": {},
   "outputs": [
    {
     "name": "stdout",
     "output_type": "stream",
     "text": [
      "DataFrame from dictionary:\n",
      "       Name  Age      City\n",
      "0    Alice   25  New York\n",
      "1      Bob   30     Paris\n",
      "2  Charlie   35    London\n",
      "3    Diana   40     Tokyo\n",
      "\n",
      "DataFrame from list of lists:\n",
      "     Name  Age    City\n",
      "0    Eve   22  Berlin\n",
      "1  Frank   28    Rome\n",
      "2  Grace   33  Madrid\n"
     ]
    }
   ],
   "source": [
    "# Creating a DataFrame from a Python dictionary\n",
    "data_dict = {\n",
    "    'Name': ['Alice', 'Bob', 'Charlie', 'Diana'],\n",
    "    'Age': [25, 30, 35, 40],\n",
    "    'City': ['New York', 'Paris', 'London', 'Tokyo']\n",
    "}\n",
    "df_dict = pd.DataFrame(data_dict)\n",
    "print(\"DataFrame from dictionary:\\n\", df_dict)\n",
    "\n",
    "# Creating a DataFrame from a list of lists\n",
    "data_list = [\n",
    "    ['Eve', 22, 'Berlin'],\n",
    "    ['Frank', 28, 'Rome'],\n",
    "    ['Grace', 33, 'Madrid']\n",
    "]\n",
    "df_list = pd.DataFrame(data_list, columns=['Name', 'Age', 'City'])\n",
    "print(\"\\nDataFrame from list of lists:\\n\", df_list)"
   ]
  },
  {
   "cell_type": "markdown",
   "id": "675611d5",
   "metadata": {},
   "source": [
    "---\n",
    "## **3. Reading and Writing Data**"
   ]
  },
  {
   "cell_type": "markdown",
   "id": "dc30cd69",
   "metadata": {},
   "source": [
    "### 3.1 Reading Data from CSV"
   ]
  },
  {
   "cell_type": "code",
   "execution_count": 7,
   "id": "a343cc6a",
   "metadata": {
    "jupyter": {
     "outputs_hidden": false
    }
   },
   "outputs": [
    {
     "name": "stdout",
     "output_type": "stream",
     "text": [
      "DataFrame loaded from CSV:\n",
      "    ID  Score  Passed\n",
      "0   1     80    True\n",
      "1   2     93    True\n",
      "2   3     78   False\n",
      "3   4     90    True\n",
      "4   5     88    True\n"
     ]
    }
   ],
   "source": [
    "# For demonstration, let's create a sample CSV in the notebook\n",
    "sample_data = {\n",
    "    'ID': [1, 2, 3, 4, 5],\n",
    "    'Score': [80, 93, 78, 90, 88],\n",
    "    'Passed': [True, True, False, True, True]\n",
    "}\n",
    "df_sample = pd.DataFrame(sample_data)\n",
    "\n",
    "# Saving the CSV file\n",
    "df_sample.to_csv('sample_data.csv', index=False)\n",
    "\n",
    "# Reading the CSV file\n",
    "df_csv = pd.read_csv('sample_data.csv')\n",
    "print(\"DataFrame loaded from CSV:\\n\", df_csv)"
   ]
  },
  {
   "cell_type": "markdown",
   "id": "abf493ce",
   "metadata": {},
   "source": [
    "### 3.2 Writing Data to CSV"
   ]
  },
  {
   "cell_type": "code",
   "execution_count": 6,
   "id": "7c2c22f7",
   "metadata": {
    "jupyter": {
     "outputs_hidden": false
    }
   },
   "outputs": [
    {
     "name": "stdout",
     "output_type": "stream",
     "text": [
      "Data saved to output_data.csv\n"
     ]
    }
   ],
   "source": [
    "# Write the DataFrame to a new CSV file\n",
    "df_csv.to_csv('output_data.csv', index=False)\n",
    "print(\"Data saved to output_data.csv\")\n",
    "\n",
    "# (You can also use functions like pd.read_excel(), df.to_excel(), pd.read_json(), etc. for different file formats.)"
   ]
  },
  {
   "cell_type": "markdown",
   "id": "5b2c4ba1",
   "metadata": {},
   "source": [
    "---\n",
    "## **4. Basic Data Exploration**"
   ]
  },
  {
   "cell_type": "code",
   "execution_count": 8,
   "id": "8d4ba66f",
   "metadata": {
    "jupyter": {
     "outputs_hidden": false
    }
   },
   "outputs": [
    {
     "name": "stdout",
     "output_type": "stream",
     "text": [
      "DataFrame:\n",
      "           A         B         C   D\n",
      "0 -0.186023 -0.543052  1.358459  32\n",
      "1 -0.314759 -0.992037  0.840638  58\n",
      "2  0.431491  1.216621  1.076123  98\n",
      "3 -1.796028 -0.405079  0.162023  34\n",
      "4  0.787011 -1.902512 -0.757125   6\n",
      "\n",
      "First few rows:\n",
      "           A         B         C   D\n",
      "0 -0.186023 -0.543052  1.358459  32\n",
      "1 -0.314759 -0.992037  0.840638  58\n",
      "2  0.431491  1.216621  1.076123  98\n",
      "3 -1.796028 -0.405079  0.162023  34\n",
      "4  0.787011 -1.902512 -0.757125   6\n",
      "\n",
      "Last few rows:\n",
      "           A         B         C   D\n",
      "0 -0.186023 -0.543052  1.358459  32\n",
      "1 -0.314759 -0.992037  0.840638  58\n",
      "2  0.431491  1.216621  1.076123  98\n",
      "3 -1.796028 -0.405079  0.162023  34\n",
      "4  0.787011 -1.902512 -0.757125   6\n",
      "\n",
      "Shape of DataFrame: (5, 4)\n",
      "\n",
      "Information about DataFrame:\n",
      "\n",
      "<class 'pandas.core.frame.DataFrame'>\n",
      "RangeIndex: 5 entries, 0 to 4\n",
      "Data columns (total 4 columns):\n",
      " #   Column  Non-Null Count  Dtype  \n",
      "---  ------  --------------  -----  \n",
      " 0   A       5 non-null      float64\n",
      " 1   B       5 non-null      float64\n",
      " 2   C       5 non-null      float64\n",
      " 3   D       5 non-null      int32  \n",
      "dtypes: float64(3), int32(1)\n",
      "memory usage: 268.0 bytes\n",
      "\n",
      "Statistical summary:\n",
      "               A         B         C          D\n",
      "count  5.000000  5.000000  5.000000   5.000000\n",
      "mean  -0.215662 -0.525212  0.536023  45.600000\n",
      "std    0.991516  1.136179  0.847497  34.594797\n",
      "min   -1.796028 -1.902512 -0.757125   6.000000\n",
      "25%   -0.314759 -0.992037  0.162023  32.000000\n",
      "50%   -0.186023 -0.543052  0.840638  34.000000\n",
      "75%    0.431491 -0.405079  1.076123  58.000000\n",
      "max    0.787011  1.216621  1.358459  98.000000\n",
      "\n",
      "Checking for missing values:\n",
      " A    0\n",
      "B    0\n",
      "C    0\n",
      "D    0\n",
      "dtype: int64\n"
     ]
    }
   ],
   "source": [
    "# Using an existing DataFrame for exploration\n",
    "df = pd.DataFrame({\n",
    "    'A': np.random.randn(5),\n",
    "    'B': np.random.randn(5),\n",
    "    'C': np.random.randn(5),\n",
    "    'D': np.random.randint(0, 100, 5)\n",
    "})\n",
    "\n",
    "print(\"DataFrame:\\n\", df)\n",
    "\n",
    "# .head(), .tail(), .shape, and .info()\n",
    "print(\"\\nFirst few rows:\\n\", df.head())\n",
    "print(\"\\nLast few rows:\\n\", df.tail())\n",
    "print(\"\\nShape of DataFrame:\", df.shape)\n",
    "print(\"\\nInformation about DataFrame:\\n\")\n",
    "df.info()\n",
    "\n",
    "# .describe() to show summary statistics for numeric columns\n",
    "print(\"\\nStatistical summary:\\n\", df.describe())\n",
    "\n",
    "# Checking for missing values\n",
    "print(\"\\nChecking for missing values:\\n\", df.isnull().sum())"
   ]
  },
  {
   "cell_type": "markdown",
   "id": "f6c7b412",
   "metadata": {},
   "source": [
    "---\n",
    "## **5. Data Selection and Indexing**\n",
    "\n",
    "### 5.1 Selecting Columns"
   ]
  },
  {
   "cell_type": "code",
   "execution_count": 9,
   "id": "8631f826",
   "metadata": {},
   "outputs": [
    {
     "name": "stdout",
     "output_type": "stream",
     "text": [
      "Column A:\n",
      " 0   -0.186023\n",
      "1   -0.314759\n",
      "2    0.431491\n",
      "3   -1.796028\n",
      "4    0.787011\n",
      "Name: A, dtype: float64\n",
      "\n",
      "Columns A and C:\n",
      "           A         C\n",
      "0 -0.186023  1.358459\n",
      "1 -0.314759  0.840638\n",
      "2  0.431491  1.076123\n",
      "3 -1.796028  0.162023\n",
      "4  0.787011 -0.757125\n"
     ]
    }
   ],
   "source": [
    "# Selecting a single column\n",
    "col_a = df['A']\n",
    "print(\"Column A:\\n\", col_a)\n",
    "\n",
    "# Selecting multiple columns\n",
    "subset = df[['A', 'C']]\n",
    "print(\"\\nColumns A and C:\\n\", subset)"
   ]
  },
  {
   "cell_type": "markdown",
   "id": "b386effd",
   "metadata": {},
   "source": [
    "### 5.2 Selecting Rows"
   ]
  },
  {
   "cell_type": "code",
   "execution_count": 9,
   "id": "51ab1fa9",
   "metadata": {},
   "outputs": [
    {
     "name": "stdout",
     "output_type": "stream",
     "text": [
      "First row using .loc:\n",
      " A    -0.472568\n",
      "B     1.920975\n",
      "C    -1.235406\n",
      "D    42.000000\n",
      "Name: 0, dtype: float64\n",
      "filter .loc:\n",
      "           A         B         C   D\n",
      "1  0.284416 -0.524111 -0.814190  55\n",
      "3  1.721137 -0.709469  2.136802  85\n",
      "\n",
      "Last row using .iloc:\n",
      " A    -0.875629\n",
      "B     0.158712\n",
      "C     0.873123\n",
      "D    50.000000\n",
      "Name: 4, dtype: float64\n",
      "\n",
      "Multiple rows:\n",
      "           A         B         C   D\n",
      "1  0.284416 -0.524111 -0.814190  55\n",
      "2 -2.229769  0.718247 -0.692493  67\n",
      "3  1.721137 -0.709469  2.136802  85\n"
     ]
    }
   ],
   "source": [
    "# Using .loc (label-based indexing)\n",
    "first_row = df.loc[0]\n",
    "print(\"First row using .loc:\\n\", first_row)\n",
    "\n",
    "first_row = df.loc[df['A'] > 0.1]\n",
    "print(\"filter .loc:\\n\", first_row)\n",
    "\n",
    "# Using .iloc (integer-based indexing)\n",
    "last_row = df.iloc[-1]\n",
    "print(\"\\nLast row using .iloc:\\n\", last_row)\n",
    "\n",
    "# Selecting multiple rows\n",
    "multiple_rows = df.iloc[1:4]\n",
    "print(\"\\nMultiple rows:\\n\", multiple_rows)"
   ]
  },
  {
   "cell_type": "markdown",
   "id": "1b121d7e",
   "metadata": {},
   "source": [
    "### 5.3 Conditional Selection"
   ]
  },
  {
   "cell_type": "code",
   "execution_count": 10,
   "id": "c798ebc2",
   "metadata": {},
   "outputs": [
    {
     "name": "stdout",
     "output_type": "stream",
     "text": [
      "Rows where D > 50:\n",
      "           A         B         C   D\n",
      "1  0.284416 -0.524111 -0.814190  55\n",
      "2 -2.229769  0.718247 -0.692493  67\n",
      "3  1.721137 -0.709469  2.136802  85\n"
     ]
    }
   ],
   "source": [
    "# Select rows where column 'D' is greater than 50\n",
    "filtered_df = df[df['D'] > 50]\n",
    "print(\"Rows where D > 50:\\n\", filtered_df)"
   ]
  },
  {
   "cell_type": "markdown",
   "id": "02428442",
   "metadata": {},
   "source": [
    "### 5.4 Setting/Resetting Index"
   ]
  },
  {
   "cell_type": "code",
   "execution_count": 10,
   "id": "8f7afdb6",
   "metadata": {},
   "outputs": [
    {
     "name": "stdout",
     "output_type": "stream",
     "text": [
      "DataFrame with 'Names' set as index:\n",
      "                 A         B         C   D\n",
      "Names                                    \n",
      "Alpha   -0.186023 -0.543052  1.358459  32\n",
      "Bravo   -0.314759 -0.992037  0.840638  58\n",
      "Charlie  0.431491  1.216621  1.076123  98\n",
      "Delta   -1.796028 -0.405079  0.162023  34\n",
      "Echo     0.787011 -1.902512 -0.757125   6\n",
      "\n",
      "DataFrame after resetting index:\n",
      "      Names         A         B         C   D\n",
      "0    Alpha -0.186023 -0.543052  1.358459  32\n",
      "1    Bravo -0.314759 -0.992037  0.840638  58\n",
      "2  Charlie  0.431491  1.216621  1.076123  98\n",
      "3    Delta -1.796028 -0.405079  0.162023  34\n",
      "4     Echo  0.787011 -1.902512 -0.757125   6\n"
     ]
    }
   ],
   "source": [
    "# Create a new DataFrame for demonstration\n",
    "df_idx = df.copy()\n",
    "df_idx['Names'] = ['Alpha', 'Bravo', 'Charlie', 'Delta', 'Echo']\n",
    "df_idx.set_index('Names', inplace=True)\n",
    "print(\"DataFrame with 'Names' set as index:\\n\", df_idx)\n",
    "\n",
    "# Reset index\n",
    "df_reset = df_idx.reset_index()\n",
    "print(\"\\nDataFrame after resetting index:\\n\", df_reset)"
   ]
  },
  {
   "cell_type": "markdown",
   "id": "82152148",
   "metadata": {},
   "source": [
    "---\n",
    "## **6. Data Cleaning & Manipulation**\n",
    "\n",
    "### 6.1 Handling Missing Values"
   ]
  },
  {
   "cell_type": "code",
   "execution_count": 11,
   "id": "a6f88cff",
   "metadata": {},
   "outputs": [
    {
     "name": "stdout",
     "output_type": "stream",
     "text": [
      "Original DataFrame with NaNs:\n",
      "      X    Y   Z\n",
      "0  1.0  NaN  10\n",
      "1  2.0  2.0  20\n",
      "2  NaN  3.0  30\n",
      "3  4.0  4.0  40\n"
     ]
    }
   ],
   "source": [
    "# Create a DataFrame with NaN values for demonstration\n",
    "df_nan = pd.DataFrame({\n",
    "    'X': [1, 2, np.nan, 4],\n",
    "    'Y': [np.nan, 2, 3, 4],\n",
    "    'Z': [10, 20, 30, 40]\n",
    "})\n",
    "\n",
    "print(\"Original DataFrame with NaNs:\\n\", df_nan)"
   ]
  },
  {
   "cell_type": "code",
   "execution_count": 12,
   "id": "0afb8d5c",
   "metadata": {},
   "outputs": [
    {
     "name": "stdout",
     "output_type": "stream",
     "text": [
      "\n",
      "DataFrame after dropping NaNs:\n",
      "      X    Y   Z\n",
      "1  2.0  2.0  20\n",
      "3  4.0  4.0  40\n"
     ]
    }
   ],
   "source": [
    "# Dropping rows with NaN values\n",
    "df_dropna = df_nan.dropna()\n",
    "print(\"\\nDataFrame after dropping NaNs:\\n\", df_dropna)"
   ]
  },
  {
   "cell_type": "code",
   "execution_count": 13,
   "id": "0303cc93",
   "metadata": {},
   "outputs": [
    {
     "name": "stdout",
     "output_type": "stream",
     "text": [
      "\n",
      "DataFrame after filling NaNs with 0:\n",
      "      X    Y   Z\n",
      "0  1.0  0.0  10\n",
      "1  2.0  2.0  20\n",
      "2  0.0  3.0  30\n",
      "3  4.0  4.0  40\n"
     ]
    }
   ],
   "source": [
    "# Filling NaN values with a specified value\n",
    "df_fillna = df_nan.fillna(value=0)\n",
    "print(\"\\nDataFrame after filling NaNs with 0:\\n\", df_fillna)"
   ]
  },
  {
   "cell_type": "code",
   "execution_count": 14,
   "id": "78fd3f13",
   "metadata": {},
   "outputs": [
    {
     "name": "stdout",
     "output_type": "stream",
     "text": [
      "\n",
      "DataFrame after forward fill:\n",
      "      X    Y   Z\n",
      "0  1.0  NaN  10\n",
      "1  2.0  2.0  20\n",
      "2  2.0  3.0  30\n",
      "3  4.0  4.0  40\n"
     ]
    }
   ],
   "source": [
    "# Forward fill example\n",
    "df_ffill = df_nan.fillna(method='ffill')\n",
    "print(\"\\nDataFrame after forward fill:\\n\", df_ffill)"
   ]
  },
  {
   "cell_type": "markdown",
   "id": "99c41ad3",
   "metadata": {},
   "source": [
    "### 6.2 Removing or Renaming Columns"
   ]
  },
  {
   "cell_type": "code",
   "execution_count": 15,
   "id": "ba9c1729",
   "metadata": {},
   "outputs": [
    {
     "name": "stdout",
     "output_type": "stream",
     "text": [
      "\n",
      "DataFrame after dropping column 'Y':\n",
      "      X   Z\n",
      "0  1.0  10\n",
      "1  2.0  20\n",
      "2  NaN  30\n",
      "3  4.0  40\n"
     ]
    }
   ],
   "source": [
    "# Dropping a column\n",
    "df_dropped_col = df_nan.drop('Y', axis=1)\n",
    "print(\"\\nDataFrame after dropping column 'Y':\\n\", df_dropped_col)"
   ]
  },
  {
   "cell_type": "code",
   "execution_count": 16,
   "id": "c7bf41b9",
   "metadata": {},
   "outputs": [
    {
     "name": "stdout",
     "output_type": "stream",
     "text": [
      "\n",
      "DataFrame after renaming columns:\n",
      "    X_new  Y_new   Z\n",
      "0    1.0    NaN  10\n",
      "1    2.0    2.0  20\n",
      "2    NaN    3.0  30\n",
      "3    4.0    4.0  40\n"
     ]
    }
   ],
   "source": [
    "# Renaming columns\n",
    "df_renamed = df_nan.rename(columns={'X': 'X_new', 'Y': 'Y_new'})\n",
    "print(\"\\nDataFrame after renaming columns:\\n\", df_renamed)"
   ]
  },
  {
   "cell_type": "markdown",
   "id": "b734b07f",
   "metadata": {},
   "source": [
    "### 6.3 Applying Functions"
   ]
  },
  {
   "cell_type": "code",
   "execution_count": 18,
   "id": "cf7b32e7",
   "metadata": {},
   "outputs": [
    {
     "name": "stdout",
     "output_type": "stream",
     "text": [
      "\n",
      "Apply custom function to 'X':\n",
      "      X    Y   Z  X_times_two\n",
      "0  1.0  NaN  10          3.0\n",
      "1  2.0  2.0  20          4.0\n",
      "2  NaN  3.0  30          NaN\n",
      "3  4.0  4.0  40          6.0\n"
     ]
    }
   ],
   "source": [
    "# Using apply() to apply a custom function\n",
    "def custom_function(x):\n",
    "    return x+2\n",
    "\n",
    "df_nan['X_times_two'] = df_nan['X'].apply(custom_function)\n",
    "print(\"\\nApply custom function to 'X':\\n\", df_nan)"
   ]
  },
  {
   "cell_type": "markdown",
   "id": "8f0a0b03",
   "metadata": {},
   "source": [
    "---\n",
    "## **7. Merging, Joining, and Concatenation**\n",
    "\n",
    "### 7.1 Concatenation"
   ]
  },
  {
   "cell_type": "code",
   "execution_count": 21,
   "id": "84a90ea7",
   "metadata": {},
   "outputs": [
    {
     "name": "stdout",
     "output_type": "stream",
     "text": [
      "   col1  col2\n",
      "0     1     3\n",
      "1     2     4\n"
     ]
    },
    {
     "data": {
      "text/html": [
       "<div>\n",
       "<style scoped>\n",
       "    .dataframe tbody tr th:only-of-type {\n",
       "        vertical-align: middle;\n",
       "    }\n",
       "\n",
       "    .dataframe tbody tr th {\n",
       "        vertical-align: top;\n",
       "    }\n",
       "\n",
       "    .dataframe thead th {\n",
       "        text-align: right;\n",
       "    }\n",
       "</style>\n",
       "<table border=\"1\" class=\"dataframe\">\n",
       "  <thead>\n",
       "    <tr style=\"text-align: right;\">\n",
       "      <th></th>\n",
       "      <th>col1</th>\n",
       "      <th>col2</th>\n",
       "    </tr>\n",
       "  </thead>\n",
       "  <tbody>\n",
       "    <tr>\n",
       "      <th>0</th>\n",
       "      <td>5</td>\n",
       "      <td>7</td>\n",
       "    </tr>\n",
       "    <tr>\n",
       "      <th>1</th>\n",
       "      <td>6</td>\n",
       "      <td>8</td>\n",
       "    </tr>\n",
       "  </tbody>\n",
       "</table>\n",
       "</div>"
      ],
      "text/plain": [
       "   col1  col2\n",
       "0     5     7\n",
       "1     6     8"
      ]
     },
     "execution_count": 21,
     "metadata": {},
     "output_type": "execute_result"
    }
   ],
   "source": [
    "# Create two DataFrames\n",
    "df1 = pd.DataFrame({'col1': [1, 2], 'col2': [3, 4]})\n",
    "df2 = pd.DataFrame({'col1': [5, 6], 'col2': [7, 8]})\n",
    "print(df1)\n",
    "df2"
   ]
  },
  {
   "cell_type": "code",
   "execution_count": 22,
   "id": "d6fdda6b",
   "metadata": {},
   "outputs": [
    {
     "name": "stdout",
     "output_type": "stream",
     "text": [
      "Concatenate DataFrames along rows:\n",
      "    col1  col2\n",
      "0     1     3\n",
      "1     2     4\n",
      "0     5     7\n",
      "1     6     8\n"
     ]
    }
   ],
   "source": [
    "# Concatenate along rows\n",
    "df_concat = pd.concat([df1, df2], axis=0)\n",
    "print(\"Concatenate DataFrames along rows:\\n\", df_concat)"
   ]
  },
  {
   "cell_type": "code",
   "execution_count": 23,
   "id": "a7e122d4",
   "metadata": {},
   "outputs": [
    {
     "name": "stdout",
     "output_type": "stream",
     "text": [
      "\n",
      "Concatenate DataFrames along columns:\n",
      "    col1  col2  col1  col2\n",
      "0     1     3     5     7\n",
      "1     2     4     6     8\n"
     ]
    }
   ],
   "source": [
    "# Concatenate along columns\n",
    "df_concat_col = pd.concat([df1, df2], axis=1)\n",
    "print(\"\\nConcatenate DataFrames along columns:\\n\", df_concat_col)"
   ]
  },
  {
   "cell_type": "markdown",
   "id": "8ee6e9f4",
   "metadata": {},
   "source": [
    "### 7.2 Merge (like SQL Join)"
   ]
  },
  {
   "cell_type": "code",
   "execution_count": 25,
   "id": "fef53481",
   "metadata": {},
   "outputs": [
    {
     "name": "stdout",
     "output_type": "stream",
     "text": [
      "  key   A   B\n",
      "0  K0  A0  B0\n",
      "1  K1  A1  B1\n",
      "2  K2  A2  B2\n"
     ]
    },
    {
     "data": {
      "text/html": [
       "<div>\n",
       "<style scoped>\n",
       "    .dataframe tbody tr th:only-of-type {\n",
       "        vertical-align: middle;\n",
       "    }\n",
       "\n",
       "    .dataframe tbody tr th {\n",
       "        vertical-align: top;\n",
       "    }\n",
       "\n",
       "    .dataframe thead th {\n",
       "        text-align: right;\n",
       "    }\n",
       "</style>\n",
       "<table border=\"1\" class=\"dataframe\">\n",
       "  <thead>\n",
       "    <tr style=\"text-align: right;\">\n",
       "      <th></th>\n",
       "      <th>key</th>\n",
       "      <th>C</th>\n",
       "      <th>D</th>\n",
       "    </tr>\n",
       "  </thead>\n",
       "  <tbody>\n",
       "    <tr>\n",
       "      <th>0</th>\n",
       "      <td>K0</td>\n",
       "      <td>C0</td>\n",
       "      <td>D0</td>\n",
       "    </tr>\n",
       "    <tr>\n",
       "      <th>1</th>\n",
       "      <td>K1</td>\n",
       "      <td>C1</td>\n",
       "      <td>D1</td>\n",
       "    </tr>\n",
       "    <tr>\n",
       "      <th>2</th>\n",
       "      <td>K3</td>\n",
       "      <td>C3</td>\n",
       "      <td>D3</td>\n",
       "    </tr>\n",
       "  </tbody>\n",
       "</table>\n",
       "</div>"
      ],
      "text/plain": [
       "  key   C   D\n",
       "0  K0  C0  D0\n",
       "1  K1  C1  D1\n",
       "2  K3  C3  D3"
      ]
     },
     "execution_count": 25,
     "metadata": {},
     "output_type": "execute_result"
    }
   ],
   "source": [
    "# Create sample DataFrames for merge\n",
    "left_df = pd.DataFrame({\n",
    "    'key': ['K0', 'K1', 'K2'],\n",
    "    'A': ['A0', 'A1', 'A2'],\n",
    "    'B': ['B0', 'B1', 'B2']\n",
    "})\n",
    "\n",
    "right_df = pd.DataFrame({\n",
    "    'key': ['K0', 'K1', 'K3'],\n",
    "    'C': ['C0', 'C1', 'C3'],\n",
    "    'D': ['D0', 'D1', 'D3']\n",
    "})\n",
    "print(left_df)\n",
    "right_df"
   ]
  },
  {
   "cell_type": "code",
   "execution_count": 26,
   "id": "bead27fa",
   "metadata": {},
   "outputs": [
    {
     "name": "stdout",
     "output_type": "stream",
     "text": [
      "Inner Merge:\n",
      "   key   A   B   C   D\n",
      "0  K0  A0  B0  C0  D0\n",
      "1  K1  A1  B1  C1  D1\n"
     ]
    }
   ],
   "source": [
    "# Merge on key (default is inner join)\n",
    "df_merge_inner = pd.merge(left_df, right_df, on='key', how='inner')\n",
    "print(\"Inner Merge:\\n\", df_merge_inner)"
   ]
  },
  {
   "cell_type": "code",
   "execution_count": 27,
   "id": "31e1b134",
   "metadata": {},
   "outputs": [
    {
     "name": "stdout",
     "output_type": "stream",
     "text": [
      "\n",
      "Left Merge:\n",
      "   key   A   B    C    D\n",
      "0  K0  A0  B0   C0   D0\n",
      "1  K1  A1  B1   C1   D1\n",
      "2  K2  A2  B2  NaN  NaN\n"
     ]
    }
   ],
   "source": [
    "# Left join\n",
    "df_merge_left = pd.merge(left_df, right_df, on='key', how='left')\n",
    "print(\"\\nLeft Merge:\\n\", df_merge_left)"
   ]
  },
  {
   "cell_type": "code",
   "execution_count": 28,
   "id": "cb0b45bb",
   "metadata": {},
   "outputs": [
    {
     "name": "stdout",
     "output_type": "stream",
     "text": [
      "\n",
      "Right Merge:\n",
      "   key    A    B   C   D\n",
      "0  K0   A0   B0  C0  D0\n",
      "1  K1   A1   B1  C1  D1\n",
      "2  K3  NaN  NaN  C3  D3\n"
     ]
    }
   ],
   "source": [
    "# Right join\n",
    "df_merge_right = pd.merge(left_df, right_df, on='key', how='right')\n",
    "print(\"\\nRight Merge:\\n\", df_merge_right)"
   ]
  },
  {
   "cell_type": "code",
   "execution_count": 29,
   "id": "f6ec995f",
   "metadata": {},
   "outputs": [
    {
     "name": "stdout",
     "output_type": "stream",
     "text": [
      "\n",
      "Outer Merge:\n",
      "   key    A    B    C    D\n",
      "0  K0   A0   B0   C0   D0\n",
      "1  K1   A1   B1   C1   D1\n",
      "2  K2   A2   B2  NaN  NaN\n",
      "3  K3  NaN  NaN   C3   D3\n"
     ]
    }
   ],
   "source": [
    "# Outer join\n",
    "df_merge_outer = pd.merge(left_df, right_df, on='key', how='outer')\n",
    "print(\"\\nOuter Merge:\\n\", df_merge_outer)"
   ]
  },
  {
   "cell_type": "markdown",
   "id": "9c434b01",
   "metadata": {},
   "source": [
    "---\n",
    "## **8. Grouping and Aggregation**"
   ]
  },
  {
   "cell_type": "code",
   "execution_count": 30,
   "id": "a54f39a4",
   "metadata": {},
   "outputs": [
    {
     "name": "stdout",
     "output_type": "stream",
     "text": [
      "Original DataFrame:\n",
      "     Category    Name  Price  Quantity\n",
      "0      Fruit   Apple    100         1\n",
      "1      Fruit  Banana     40         2\n",
      "2  Vegetable  Carrot     50         5\n",
      "3  Vegetable  Tomato     70         3\n",
      "4      Fruit  Banana     30        10\n"
     ]
    }
   ],
   "source": [
    "# Create a DataFrame for grouping/aggregation\n",
    "df_group = pd.DataFrame({\n",
    "    'Category': ['Fruit', 'Fruit', 'Vegetable', 'Vegetable', 'Fruit'],\n",
    "    'Name': ['Apple', 'Banana', 'Carrot', 'Tomato', 'Banana'],\n",
    "    'Price': [100, 40, 50, 70, 30],\n",
    "    'Quantity': [1, 2, 5, 3, 10]\n",
    "})\n",
    "\n",
    "print(\"Original DataFrame:\\n\", df_group)\n",
    "\n"
   ]
  },
  {
   "cell_type": "code",
   "execution_count": 31,
   "id": "530138ec",
   "metadata": {},
   "outputs": [
    {
     "name": "stdout",
     "output_type": "stream",
     "text": [
      "\n",
      "Sum of prices by Category:\n",
      " Category\n",
      "Fruit        170\n",
      "Vegetable    120\n",
      "Name: Price, dtype: int64\n"
     ]
    }
   ],
   "source": [
    "# Group by single column and compute aggregate\n",
    "grouped = df_group.groupby('Category')\n",
    "sum_price = grouped['Price'].sum()\n",
    "print(\"\\nSum of prices by Category:\\n\", sum_price)\n"
   ]
  },
  {
   "cell_type": "code",
   "execution_count": 33,
   "id": "878422ac",
   "metadata": {},
   "outputs": [
    {
     "name": "stdout",
     "output_type": "stream",
     "text": [
      "\n",
      "Aggregate by Category and Name:\n",
      "                   Price  Quantity\n",
      "Category  Name                   \n",
      "Fruit     Apple   100.0         1\n",
      "          Banana   35.0        12\n",
      "Vegetable Carrot   50.0         5\n",
      "          Tomato   70.0         3\n"
     ]
    }
   ],
   "source": [
    "# Group by multiple columns\n",
    "grouped_multiple = df_group.groupby(['Category', 'Name']).agg({'Price': 'mean', 'Quantity': 'sum'})\n",
    "print(\"\\nAggregate by Category and Name:\\n\", grouped_multiple)"
   ]
  },
  {
   "cell_type": "code",
   "execution_count": 34,
   "id": "5765b409",
   "metadata": {},
   "outputs": [
    {
     "name": "stdout",
     "output_type": "stream",
     "text": [
      "\n",
      "Custom aggregation by Category:\n",
      "                Price      Quantity\n",
      "                mean  sum      sum\n",
      "Category                          \n",
      "Fruit      56.666667  170       13\n",
      "Vegetable  60.000000  120        8\n"
     ]
    }
   ],
   "source": [
    "# Another way of grouping and getting summary\n",
    "grouped_custom = df_group.groupby('Category').agg({\n",
    "    'Price': ['mean', 'sum'],\n",
    "    'Quantity': 'sum'\n",
    "})\n",
    "print(\"\\nCustom aggregation by Category:\\n\", grouped_custom)"
   ]
  },
  {
   "cell_type": "markdown",
   "id": "59cd8de2",
   "metadata": {},
   "source": [
    "---\n",
    "## **9. Pivot Tables**"
   ]
  },
  {
   "cell_type": "code",
   "execution_count": 35,
   "id": "81eb1c63",
   "metadata": {
    "jupyter": {
     "outputs_hidden": false
    }
   },
   "outputs": [
    {
     "name": "stdout",
     "output_type": "stream",
     "text": [
      "Pivot Table example:\n",
      " Name       Apple  Banana  Carrot  Tomato\n",
      "Category                                \n",
      "Fruit        100      35       0       0\n",
      "Vegetable      0       0      50      70\n"
     ]
    }
   ],
   "source": [
    "# Using the same df_group to demonstrate pivot tables\n",
    "pivot_table_example = df_group.pivot_table(\n",
    "    values='Price',\n",
    "    index='Category',\n",
    "    columns='Name',\n",
    "    aggfunc='mean',\n",
    "    fill_value=0\n",
    ")\n",
    "print(\"Pivot Table example:\\n\", pivot_table_example)"
   ]
  },
  {
   "cell_type": "markdown",
   "id": "1841745d",
   "metadata": {},
   "source": [
    "---\n",
    "## **10. Working with Dates and Times**"
   ]
  },
  {
   "cell_type": "code",
   "execution_count": 38,
   "id": "0a4fd134",
   "metadata": {
    "jupyter": {
     "outputs_hidden": false
    },
    "scrolled": true
   },
   "outputs": [
    {
     "name": "stdout",
     "output_type": "stream",
     "text": [
      "DataFrame with Date column:\n",
      "         Date  Value\n",
      "0 2025-01-01     50\n",
      "1 2025-01-02     13\n",
      "2 2025-01-03     35\n",
      "3 2025-01-04     78\n",
      "4 2025-01-05     52\n"
     ]
    }
   ],
   "source": [
    "# Creating a DataFrame with a datetime range\n",
    "date_range = pd.date_range('2025-01-01', periods=5, freq='D')\n",
    "df_dates = pd.DataFrame({\n",
    "    'Date': date_range,\n",
    "    'Value': np.random.randint(10, 100, 5)\n",
    "})\n",
    "print(\"DataFrame with Date column:\\n\", df_dates)\n"
   ]
  },
  {
   "cell_type": "code",
   "execution_count": 39,
   "id": "f1905a0b",
   "metadata": {},
   "outputs": [
    {
     "name": "stdout",
     "output_type": "stream",
     "text": [
      "\n",
      "DataFrame with Date as index:\n",
      "             Value\n",
      "Date             \n",
      "2025-01-01     50\n",
      "2025-01-02     13\n",
      "2025-01-03     35\n",
      "2025-01-04     78\n",
      "2025-01-05     52\n"
     ]
    }
   ],
   "source": [
    "\n",
    "# Setting 'Date' as index\n",
    "df_dates.set_index('Date', inplace=True)\n",
    "print(\"\\nDataFrame with Date as index:\\n\", df_dates)"
   ]
  },
  {
   "cell_type": "code",
   "execution_count": 40,
   "id": "f33ba0c5",
   "metadata": {},
   "outputs": [
    {
     "name": "stdout",
     "output_type": "stream",
     "text": [
      "\n",
      "Select rows in a specific date range:\n",
      "             Value\n",
      "Date             \n",
      "2025-01-02     13\n",
      "2025-01-03     35\n",
      "2025-01-04     78\n"
     ]
    }
   ],
   "source": [
    "# Selecting data by date range\n",
    "print(\"\\nSelect rows in a specific date range:\\n\", df_dates['2025-01-02':'2025-01-04'])"
   ]
  },
  {
   "cell_type": "markdown",
   "id": "d0d824bc",
   "metadata": {},
   "source": [
    "---\n",
    "## **11. Advanced Indexing (MultiIndex)**"
   ]
  },
  {
   "cell_type": "code",
   "execution_count": 46,
   "id": "ec43ecee",
   "metadata": {
    "jupyter": {
     "outputs_hidden": false
    }
   },
   "outputs": [
    {
     "data": {
      "text/plain": [
       "[('bar', 'one'),\n",
       " ('bar', 'two'),\n",
       " ('baz', 'one'),\n",
       " ('baz', 'two'),\n",
       " ('foo', 'one'),\n",
       " ('foo', 'two'),\n",
       " ('qux', 'one'),\n",
       " ('qux', 'two')]"
      ]
     },
     "execution_count": 46,
     "metadata": {},
     "output_type": "execute_result"
    }
   ],
   "source": [
    "# Create a MultiIndex\n",
    "arrays = [\n",
    "    ['bar', 'bar', 'baz', 'baz', 'foo', 'foo', 'qux', 'qux'],\n",
    "    ['one', 'two', 'one', 'two', 'one', 'two', 'one', 'two']\n",
    "]\n",
    "tuples = list(zip(*arrays))\n",
    "tuples"
   ]
  },
  {
   "cell_type": "code",
   "execution_count": 48,
   "id": "eb701d17",
   "metadata": {},
   "outputs": [
    {
     "data": {
      "text/plain": [
       "MultiIndex([('bar', 'one'),\n",
       "            ('bar', 'two'),\n",
       "            ('baz', 'one'),\n",
       "            ('baz', 'two'),\n",
       "            ('foo', 'one'),\n",
       "            ('foo', 'two'),\n",
       "            ('qux', 'one'),\n",
       "            ('qux', 'two')],\n",
       "           names=['first', 'second'])"
      ]
     },
     "execution_count": 48,
     "metadata": {},
     "output_type": "execute_result"
    }
   ],
   "source": [
    "index = pd.MultiIndex.from_tuples(tuples, names=['first', 'second'])\n",
    "index"
   ]
  },
  {
   "cell_type": "code",
   "execution_count": 49,
   "id": "915c464d",
   "metadata": {},
   "outputs": [
    {
     "name": "stdout",
     "output_type": "stream",
     "text": [
      "MultiIndex DataFrame:\n",
      "                      A         B\n",
      "first second                    \n",
      "bar   one     0.793476 -0.467113\n",
      "      two    -0.271317 -0.583794\n",
      "baz   one     0.350841  2.534090\n",
      "      two    -0.511781 -0.913947\n",
      "foo   one    -0.662491 -0.652401\n",
      "      two     0.342900 -0.269645\n",
      "qux   one     0.016229  0.598032\n",
      "      two     0.625988 -2.281755\n"
     ]
    }
   ],
   "source": [
    "df_multi = pd.DataFrame(np.random.randn(8, 2), index=index, columns=['A', 'B'])\n",
    "print(\"MultiIndex DataFrame:\\n\", df_multi)"
   ]
  },
  {
   "cell_type": "code",
   "execution_count": 52,
   "id": "8b89e8b9",
   "metadata": {},
   "outputs": [
    {
     "name": "stdout",
     "output_type": "stream",
     "text": [
      "\n",
      "Selecting 'bar' rows:\n",
      "                A         B\n",
      "second                    \n",
      "one     0.793476 -0.467113\n",
      "two    -0.271317 -0.583794\n"
     ]
    }
   ],
   "source": [
    "# Selecting data in a MultiIndex\n",
    "print(\"\\nSelecting 'bar' rows:\\n\", df_multi.loc['bar'])"
   ]
  },
  {
   "cell_type": "markdown",
   "id": "ead38993",
   "metadata": {},
   "source": [
    "# **Pandas Data Type Conversion Examples**\n",
    "\n",
    "Below are some common ways to convert data types (**dtype**) in pandas. Each example demonstrates a specific approach to changing the dtype of a column."
   ]
  },
  {
   "cell_type": "code",
   "execution_count": 65,
   "id": "bda1c3a2",
   "metadata": {},
   "outputs": [
    {
     "name": "stdout",
     "output_type": "stream",
     "text": [
      "Original dtypes:\n",
      "numbers    object\n",
      "dtype: object\n"
     ]
    },
    {
     "data": {
      "text/html": [
       "<div>\n",
       "<style scoped>\n",
       "    .dataframe tbody tr th:only-of-type {\n",
       "        vertical-align: middle;\n",
       "    }\n",
       "\n",
       "    .dataframe tbody tr th {\n",
       "        vertical-align: top;\n",
       "    }\n",
       "\n",
       "    .dataframe thead th {\n",
       "        text-align: right;\n",
       "    }\n",
       "</style>\n",
       "<table border=\"1\" class=\"dataframe\">\n",
       "  <thead>\n",
       "    <tr style=\"text-align: right;\">\n",
       "      <th></th>\n",
       "      <th>numbers</th>\n",
       "    </tr>\n",
       "  </thead>\n",
       "  <tbody>\n",
       "    <tr>\n",
       "      <th>0</th>\n",
       "      <td>1</td>\n",
       "    </tr>\n",
       "    <tr>\n",
       "      <th>1</th>\n",
       "      <td>2</td>\n",
       "    </tr>\n",
       "    <tr>\n",
       "      <th>2</th>\n",
       "      <td>3</td>\n",
       "    </tr>\n",
       "    <tr>\n",
       "      <th>3</th>\n",
       "      <td>4</td>\n",
       "    </tr>\n",
       "  </tbody>\n",
       "</table>\n",
       "</div>"
      ],
      "text/plain": [
       "  numbers\n",
       "0       1\n",
       "1       2\n",
       "2       3\n",
       "3       4"
      ]
     },
     "execution_count": 65,
     "metadata": {},
     "output_type": "execute_result"
    }
   ],
   "source": [
    "## 1. Convert to Integer\n",
    "import pandas as pd\n",
    "\n",
    "df = pd.DataFrame({\n",
    "    'numbers': ['1', '2', '3', '4']\n",
    "})\n",
    "print(\"Original dtypes:\")\n",
    "print(df.dtypes)\n",
    "df"
   ]
  },
  {
   "cell_type": "code",
   "execution_count": 57,
   "id": "184ac8d6",
   "metadata": {},
   "outputs": [
    {
     "name": "stdout",
     "output_type": "stream",
     "text": [
      "\n",
      "After converting to integer:\n",
      "numbers    int32\n",
      "dtype: object\n",
      "   numbers\n",
      "0        1\n",
      "1        2\n",
      "2        3\n",
      "3        4\n"
     ]
    }
   ],
   "source": [
    "\n",
    "df['numbers'] = df['numbers'].astype(int)\n",
    "print(\"\\nAfter converting to integer:\")\n",
    "print(df.dtypes)\n",
    "print(df)"
   ]
  },
  {
   "cell_type": "code",
   "execution_count": 58,
   "id": "03760eeb",
   "metadata": {},
   "outputs": [
    {
     "name": "stdout",
     "output_type": "stream",
     "text": [
      "Original dtypes:\n",
      "numbers    object\n",
      "dtype: object\n",
      "\n",
      "After converting to float:\n",
      "numbers    float64\n",
      "dtype: object\n",
      "   numbers\n",
      "0      1.5\n",
      "1      2.0\n",
      "2      3.3\n",
      "3      4.1\n"
     ]
    }
   ],
   "source": [
    "## 2. Convert to Float\n",
    "\n",
    "df_float = pd.DataFrame({\n",
    "    'numbers': ['1.5', '2.0', '3.3', '4.1']\n",
    "})\n",
    "print(\"Original dtypes:\")\n",
    "print(df_float.dtypes)\n",
    "\n",
    "df_float['numbers'] = df_float['numbers'].astype(float)\n",
    "print(\"\\nAfter converting to float:\")\n",
    "print(df_float.dtypes)\n",
    "print(df_float)\n"
   ]
  },
  {
   "cell_type": "code",
   "execution_count": 59,
   "id": "78ead9f9",
   "metadata": {},
   "outputs": [
    {
     "name": "stdout",
     "output_type": "stream",
     "text": [
      "Original dtypes:\n",
      "mixed    int64\n",
      "dtype: object\n",
      "\n",
      "After converting to string:\n",
      "mixed    object\n",
      "dtype: object\n",
      "  mixed\n",
      "0     1\n",
      "1     2\n",
      "2     3\n",
      "3     4\n"
     ]
    }
   ],
   "source": [
    "## 3. Convert to String\n",
    "df_str = pd.DataFrame({\n",
    "    'mixed': [1, 2, 3, 4]\n",
    "})\n",
    "print(\"Original dtypes:\")\n",
    "print(df_str.dtypes)\n",
    "\n",
    "df_str['mixed'] = df_str['mixed'].astype(str)\n",
    "print(\"\\nAfter converting to string:\")\n",
    "print(df_str.dtypes)\n",
    "print(df_str)\n"
   ]
  },
  {
   "cell_type": "code",
   "execution_count": 61,
   "id": "d929bcc6",
   "metadata": {},
   "outputs": [
    {
     "name": "stdout",
     "output_type": "stream",
     "text": [
      "  colors\n",
      "0    red\n",
      "1   blue\n",
      "2   blue\n",
      "3    red\n",
      "4  green\n",
      "Original dtypes:\n",
      "colors    object\n",
      "dtype: object\n",
      "\n",
      "After converting to category:\n",
      "colors    category\n",
      "dtype: object\n",
      "  colors\n",
      "0    red\n",
      "1   blue\n",
      "2   blue\n",
      "3    red\n",
      "4  green\n"
     ]
    }
   ],
   "source": [
    "## 4. Convert to Categorical\n",
    "\n",
    "df_cat = pd.DataFrame({\n",
    "    'colors': ['red', 'blue', 'blue', 'red', 'green']\n",
    "})\n",
    "print(df_cat)\n",
    "print(\"Original dtypes:\")\n",
    "print(df_cat.dtypes)\n",
    "\n",
    "df_cat['colors'] = df_cat['colors'].astype('category')\n",
    "print(\"\\nAfter converting to category:\")\n",
    "print(df_cat.dtypes)\n",
    "print(df_cat)\n"
   ]
  },
  {
   "cell_type": "code",
   "execution_count": 70,
   "id": "e808ed1b",
   "metadata": {},
   "outputs": [
    {
     "name": "stdout",
     "output_type": "stream",
     "text": [
      "Original dtypes:\n",
      "dates    object\n",
      "dtype: object\n",
      "\n",
      "After converting to datetime:\n",
      "dates    datetime64[ns]\n",
      "dtype: object\n",
      "       dates\n",
      "0 2023-01-01\n",
      "1 2023-02-15\n",
      "2 2023-03-10\n"
     ]
    }
   ],
   "source": [
    "## 5. Convert to DateTime\n",
    "\n",
    "df_date = pd.DataFrame({\n",
    "    'dates': ['2023-01-01', '2023-02-15', '2023-03-10']\n",
    "})\n",
    "print(\"Original dtypes:\")\n",
    "print(df_date.dtypes)\n",
    "\n",
    "df_date['dates'] = pd.to_datetime(df_date['dates'])\n",
    "print(\"\\nAfter converting to datetime:\")\n",
    "print(df_date.dtypes)\n",
    "print(df_date)\n"
   ]
  },
  {
   "cell_type": "code",
   "execution_count": 71,
   "id": "a5708a09",
   "metadata": {},
   "outputs": [
    {
     "name": "stdout",
     "output_type": "stream",
     "text": [
      "Original dtypes:\n",
      "possibly_numeric    object\n",
      "dtype: object\n",
      "\n",
      "After converting to numeric with errors='coerce':\n",
      "possibly_numeric    float64\n",
      "dtype: object\n",
      "   possibly_numeric\n",
      "0             123.0\n",
      "1               NaN\n",
      "2             456.0\n",
      "3               NaN\n"
     ]
    }
   ],
   "source": [
    "## 6. Convert to Numeric (with Error Handling)\n",
    "\n",
    "df_num = pd.DataFrame({\n",
    "    'possibly_numeric': ['123', 'abc', '456', 'xyz']\n",
    "})\n",
    "print(\"Original dtypes:\")\n",
    "print(df_num.dtypes)\n",
    "\n",
    "df_num['possibly_numeric'] = pd.to_numeric(df_num['possibly_numeric'], errors='coerce')\n",
    "print(\"\\nAfter converting to numeric with errors='coerce':\")\n",
    "print(df_num.dtypes)\n",
    "print(df_num)\n"
   ]
  },
  {
   "cell_type": "code",
   "execution_count": 73,
   "id": "366f5cda",
   "metadata": {},
   "outputs": [
    {
     "name": "stdout",
     "output_type": "stream",
     "text": [
      "Original dtypes:\n",
      "A    float64\n",
      "B       bool\n",
      "C     object\n",
      "dtype: object\n"
     ]
    },
    {
     "data": {
      "text/html": [
       "<div>\n",
       "<style scoped>\n",
       "    .dataframe tbody tr th:only-of-type {\n",
       "        vertical-align: middle;\n",
       "    }\n",
       "\n",
       "    .dataframe tbody tr th {\n",
       "        vertical-align: top;\n",
       "    }\n",
       "\n",
       "    .dataframe thead th {\n",
       "        text-align: right;\n",
       "    }\n",
       "</style>\n",
       "<table border=\"1\" class=\"dataframe\">\n",
       "  <thead>\n",
       "    <tr style=\"text-align: right;\">\n",
       "      <th></th>\n",
       "      <th>A</th>\n",
       "      <th>B</th>\n",
       "      <th>C</th>\n",
       "    </tr>\n",
       "  </thead>\n",
       "  <tbody>\n",
       "    <tr>\n",
       "      <th>0</th>\n",
       "      <td>1.0</td>\n",
       "      <td>True</td>\n",
       "      <td>foo</td>\n",
       "    </tr>\n",
       "    <tr>\n",
       "      <th>1</th>\n",
       "      <td>2.0</td>\n",
       "      <td>False</td>\n",
       "      <td>bar</td>\n",
       "    </tr>\n",
       "    <tr>\n",
       "      <th>2</th>\n",
       "      <td>NaN</td>\n",
       "      <td>True</td>\n",
       "      <td>baz</td>\n",
       "    </tr>\n",
       "  </tbody>\n",
       "</table>\n",
       "</div>"
      ],
      "text/plain": [
       "     A      B    C\n",
       "0  1.0   True  foo\n",
       "1  2.0  False  bar\n",
       "2  NaN   True  baz"
      ]
     },
     "execution_count": 73,
     "metadata": {},
     "output_type": "execute_result"
    }
   ],
   "source": [
    "## 7. General Method: `convert_dtypes()`\n",
    "\n",
    "df_general = pd.DataFrame({\n",
    "    'A': [1, 2, None],\n",
    "    'B': [True, False, True],\n",
    "    'C': ['foo', 'bar', 'baz']\n",
    "})\n",
    "print(\"Original dtypes:\")\n",
    "print(df_general.dtypes)\n",
    "df_general"
   ]
  },
  {
   "cell_type": "code",
   "execution_count": 74,
   "id": "0e36e65e",
   "metadata": {},
   "outputs": [
    {
     "name": "stdout",
     "output_type": "stream",
     "text": [
      "\n",
      "After convert_dtypes():\n",
      "A      Int64\n",
      "B    boolean\n",
      "C     string\n",
      "dtype: object\n",
      "      A      B    C\n",
      "0     1   True  foo\n",
      "1     2  False  bar\n",
      "2  <NA>   True  baz\n"
     ]
    }
   ],
   "source": [
    "\n",
    "df_general = df_general.convert_dtypes()\n",
    "print(\"\\nAfter convert_dtypes():\")\n",
    "print(df_general.dtypes)\n",
    "print(df_general)"
   ]
  },
  {
   "cell_type": "markdown",
   "id": "b12f6184",
   "metadata": {},
   "source": [
    "## Summary\n",
    "- **`astype()`** is a straightforward method when you know the target dtype (`int`, `float`, `str`, `category`, etc.).  \n",
    "- **`pd.to_numeric()`** and **`pd.to_datetime()`** are specialized functions for parsing numeric and date/time data, respectively.  \n",
    "- **`convert_dtypes()`** can help automatically refine dtypes across all columns without manually specifying each conversion.\n",
    "\n",
    "Use the approach that best fits your data cleaning and conversion needs!"
   ]
  },
  {
   "cell_type": "markdown",
   "id": "045438d2",
   "metadata": {},
   "source": [
    "---\n",
    "## **13. Conclusion**\n",
    "\n",
    "In this notebook, we covered:\n",
    "1. Basic pandas data structures (Series and DataFrame)\n",
    "2. Creating, reading, and writing data\n",
    "3. Data exploration and cleaning\n",
    "4. Data selection and indexing techniques\n",
    "5. Merging, joining, concatenation\n",
    "6. Grouping, aggregation, and pivot tables\n",
    "7. Working with dates/times\n",
    "8. Advanced indexing (MultiIndex)\n",
    "\n",
    "\n",
    "**Happy Data Analysis!**"
   ]
  }
 ],
 "metadata": {
  "kernelspec": {
   "display_name": "Python 3 (ipykernel)",
   "language": "python",
   "name": "python3"
  },
  "language_info": {
   "codemirror_mode": {
    "name": "ipython",
    "version": 3
   },
   "file_extension": ".py",
   "mimetype": "text/x-python",
   "name": "python",
   "nbconvert_exporter": "python",
   "pygments_lexer": "ipython3",
   "version": "3.10.5"
  }
 },
 "nbformat": 4,
 "nbformat_minor": 5
}
